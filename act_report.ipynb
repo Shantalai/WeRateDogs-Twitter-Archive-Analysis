{
 "cells": [
  {
   "cell_type": "markdown",
   "metadata": {},
   "source": [
    "# Wrangle Act Report"
   ]
  },
  {
   "cell_type": "markdown",
   "metadata": {},
   "source": [
    "#### I had a blast analyzing and wrangling the data archive provided to me by Udacity and WeRateDogs of Twitter. \n",
    "WeRateDogs is an awesome Twitter account filled with dog pictures and funny scores. In orfder to perform analisys I have colledted additional data from Udacity server and Twitter API. "
   ]
  },
  {
   "cell_type": "markdown",
   "metadata": {},
   "source": [
    "#### What I have learned by gatering the data.\n",
    "- Data may come form multitude of sources and in diffirent forms. For this project I had 3 sources of data: CSV file, link to Udacity server, Twitter API. Each source requered a different method of collecting the data. \n",
    "- In order to use Twitter API, which is a rich resource of data from Twitter, I had to apply for developer account with Twitter. The application process requeres one to provide detailed description of the project and intention for the project. However, after being approved one recives the opportunity to use data and to create apps. \n",
    "- Tweepy is very useful, easy-to-use Python library for Twitter API. It allows a developer to query the data from Twitter to store it into CSV file. \n",
    "- Requests is important HTTP Python library which is useful if you need to collect data fro URL. I have used it to gather data from Udacity server that contained predictions of dog breeds made by AI based on pictures from WeRateDogs archive.  \n"
   ]
  },
  {
   "cell_type": "markdown",
   "metadata": {},
   "source": [
    "####  Some of quality and tidiness issues discovered in the process.\n",
    "- Dataset for WeRateDogs contained tweet id's and data associated with each id. However I have later noticed that some of the tweets were duplicates because they were retweeted, or were the textual responces to other tweets, therefore did not contained to picture or propper score. \n",
    "- Scores were misleading at first because they contained strange denumerators not equal to 10 or very large numerators . But after closer investigaition I found that it was due to retweets, pictures containing multiple dogs, and numerators containing decimal values. \n",
    "- Dog stages defined by the dictionary(Doggo, Floofer, Puppo, Pupper) of WeRateDogs were places in separate columns, and had to be combined into one column that I called \"dog_stages "
   ]
  },
  {
   "cell_type": "markdown",
   "metadata": {},
   "source": [
    "<img src=\"DogStages.png\" />"
   ]
  },
  {
   "cell_type": "markdown",
   "metadata": {},
   "source": [
    "- All three tables had to be combined into one dataset and unnecessary colunms were deleted. "
   ]
  },
  {
   "cell_type": "markdown",
   "metadata": {},
   "source": [
    "#### Insights from data analisys.\n",
    "- The highest rating was given to a dog was 14. \n",
    "- The correlation between rating of a dog and a number of retweets for a post is weak. It is an understandable result because ratings given to dogs are not objective and often given in a context of funny tweet text.  \n",
    "- The number of times a tweet was favorited and the number of times it was reposted are in very strong positive correlation. Which means that if tweet was liked it will most likely be reposted."
   ]
  },
  {
   "cell_type": "markdown",
   "metadata": {},
   "source": [
    "<img src=\"RetweetVsFavorite.png\" />"
   ]
  },
  {
   "cell_type": "markdown",
   "metadata": {},
   "source": [
    "- Breeds such as chihuahua, pug, golden retriever, labrador retriever, toy poodle, etc. has topped the 10 most common dog breeds for this archive. \n",
    "- Dog breeds that recieved the highest rating include irish water spaniel, borer terrier, doberman, newfoundland, standard schnauzer, tibetian terrier, gordon setter."
   ]
  },
  {
   "cell_type": "markdown",
   "metadata": {},
   "source": [
    "<img src=\"most10breeds.png\" />"
   ]
  },
  {
   "cell_type": "markdown",
   "metadata": {},
   "source": [
    "- Wordcloud is Python library that could be used to create fun visuals for data analysis. "
   ]
  },
  {
   "cell_type": "markdown",
   "metadata": {},
   "source": [
    "<img src=\"breedcloud.png\"  /> "
   ]
  },
  {
   "cell_type": "markdown",
   "metadata": {},
   "source": [
    "- Among all the dog names the most common came up to be Charlie, Penny, and Tucker.  "
   ]
  },
  {
   "cell_type": "markdown",
   "metadata": {},
   "source": [
    "<img src=\"most10names.png\" />"
   ]
  },
  {
   "cell_type": "markdown",
   "metadata": {},
   "source": [
    "<img src=\"namecloud.png\" /> "
   ]
  },
  {
   "cell_type": "code",
   "execution_count": null,
   "metadata": {},
   "outputs": [],
   "source": []
  }
 ],
 "metadata": {
  "kernelspec": {
   "display_name": "Python [conda env:root] *",
   "language": "python",
   "name": "conda-root-py"
  },
  "language_info": {
   "codemirror_mode": {
    "name": "ipython",
    "version": 3
   },
   "file_extension": ".py",
   "mimetype": "text/x-python",
   "name": "python",
   "nbconvert_exporter": "python",
   "pygments_lexer": "ipython3",
   "version": "3.7.3"
  }
 },
 "nbformat": 4,
 "nbformat_minor": 2
}
